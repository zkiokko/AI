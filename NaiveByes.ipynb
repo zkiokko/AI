{
 "cells": [
  {
   "cell_type": "code",
   "execution_count": 1,
   "metadata": {},
   "outputs": [],
   "source": [
    "import numpy as np"
   ]
  },
  {
   "cell_type": "code",
   "execution_count": 37,
   "metadata": {},
   "outputs": [
    {
     "name": "stderr",
     "output_type": "stream",
     "text": [
      "c:\\Users\\schio\\AppData\\Local\\Programs\\Python\\Python311\\Lib\\site-packages\\sklearn\\datasets\\_openml.py:1022: FutureWarning: The default value of `parser` will change from `'liac-arff'` to `'auto'` in 1.4. You can set `parser='auto'` to silence this warning. Therefore, an `ImportError` will be raised from 1.4 if the dataset is dense and pandas is not installed. Note that the pandas parser may return different data types. See the Notes Section in fetch_openml's API doc for details.\n",
      "  warn(\n"
     ]
    }
   ],
   "source": [
    "from sklearn.datasets import fetch_openml\n",
    "X,y = fetch_openml('mnist_784', version=1, return_X_y=True)\n",
    "y = y.astype(int)[:int(len(X)*.5//1)]\n",
    "X = X/255\n",
    "X=X[:int(len(X)*.5//1)]\n"
   ]
  },
  {
   "cell_type": "code",
   "execution_count": 38,
   "metadata": {},
   "outputs": [],
   "source": [
    "from sklearn.model_selection import train_test_split\n",
    "\n",
    "\n",
    "X_train,X_test,y_train,y_test=train_test_split(X,y,test_size=.20,random_state=56)"
   ]
  },
  {
   "cell_type": "code",
   "execution_count": 90,
   "metadata": {},
   "outputs": [],
   "source": [
    "import math\n",
    "from numpy import mean, nan,std,argmax,prod\n",
    "from scipy.stats import beta\n",
    "from sympy import ln\n",
    "import tqdm\n",
    "\n",
    "\n",
    "\n",
    "class naiveB:\n",
    "    def fit(self,X,y):\n",
    "        X=X.to_numpy()\n",
    "        y=y.to_numpy()\n",
    "        self.C=[]\n",
    "        self.A=[]\n",
    "        self.B=[]\n",
    "        for i in range(10):\n",
    "            \n",
    "            x_i=X[y==i]\n",
    "            self.C.append(len(x_i)/len(y))\n",
    "            self.A.append([])\n",
    "            self.B.append([])\n",
    "            for j in range(len(X[0])):\n",
    "                x_j=x_i[:,j]\n",
    "                E=mean(x_j) \n",
    "                self.A[i].append((E*(1-E)/pow(std(x_j),2)-1)*E)\n",
    "                self.B[i].append((E*(1-E)/pow(std(x_j),2)-1)*(1-E))\n",
    "\n",
    "\n",
    "            \n",
    "            \n",
    "    def predict(self,X):\n",
    "        X=X.to_numpy()\n",
    "        ret=[]\n",
    "\n",
    "        for x in X:\n",
    "            prob=[]\n",
    "            for i in range(10):\n",
    "                cond=self.C[i]\n",
    "                for j in range(len(self.A[i])):\n",
    "                    z=beta.pdf(x[j],self.A[i][j],self.B[i][j])\n",
    "                    if(not math.isnan(z)and not math.isinf(z) and not z==0):\n",
    "                        cond+=ln(z)\n",
    "                        \n",
    "                prob.append(cond)\n",
    "            ret.append(argmax(prob))\n",
    "        return ret\n",
    "                \n",
    "            \n",
    "            \n",
    "                \n",
    "                "
   ]
  },
  {
   "cell_type": "code",
   "execution_count": 91,
   "metadata": {},
   "outputs": [
    {
     "name": "stderr",
     "output_type": "stream",
     "text": [
      "C:\\Users\\schio\\AppData\\Local\\Temp\\ipykernel_28024\\3213078803.py:25: RuntimeWarning: invalid value encountered in scalar divide\n",
      "  self.A[i].append((E*(1-E)/pow(std(x_j),2)-1)*E)\n",
      "C:\\Users\\schio\\AppData\\Local\\Temp\\ipykernel_28024\\3213078803.py:26: RuntimeWarning: invalid value encountered in scalar divide\n",
      "  self.B[i].append((E*(1-E)/pow(std(x_j),2)-1)*(1-E))\n"
     ]
    }
   ],
   "source": [
    "cl=naiveB()\n",
    "cl.fit(X_train,y_train)"
   ]
  },
  {
   "cell_type": "code",
   "execution_count": 92,
   "metadata": {},
   "outputs": [
    {
     "name": "stdout",
     "output_type": "stream",
     "text": [
      "0.56\n"
     ]
    }
   ],
   "source": [
    "from sklearn.metrics import accuracy_score\n",
    "\n",
    "p=cl.predict(X_test[:100])\n",
    "\n",
    "print(accuracy_score(y_test[:100],p))\n",
    "\n"
   ]
  }
 ],
 "metadata": {
  "kernelspec": {
   "display_name": "Python 3",
   "language": "python",
   "name": "python3"
  },
  "language_info": {
   "codemirror_mode": {
    "name": "ipython",
    "version": 3
   },
   "file_extension": ".py",
   "mimetype": "text/x-python",
   "name": "python",
   "nbconvert_exporter": "python",
   "pygments_lexer": "ipython3",
   "version": "3.11.0"
  }
 },
 "nbformat": 4,
 "nbformat_minor": 2
}
