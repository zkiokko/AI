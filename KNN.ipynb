{
  "cells": [
    {
      "cell_type": "code",
      "execution_count": 45,
      "metadata": {
        "id": "XyMzvTkxoezF"
      },
      "outputs": [],
      "source": [
        "\n",
        "from matplotlib import cm, pyplot as plt\n",
        "from sklearn.datasets import fetch_openml\n",
        "from sklearn.ensemble import RandomForestClassifier\n",
        "import numpy as np\n",
        "from sklearn.model_selection import train_test_split\n",
        "from sklearn.datasets import fetch_openml\n",
        "from sklearn.metrics import accuracy_score\n",
        "import time\n",
        "from sklearn import svm\n",
        "from sklearn.model_selection import train_test_split\n",
        "from tqdm import tqdm\n",
        "\n",
        "\n",
        "class K_nn:\n",
        "    def __init__(self,k=3):\n",
        "        self.k=k\n",
        "\n",
        "\n",
        "    def fit(self,X,y):\n",
        "        if not isinstance(y, (np.ndarray, np.generic) ):\n",
        "            X=X.to_numpy()\n",
        "            y=y.to_numpy()\n",
        "        self.X=X\n",
        "        self.y=y\n",
        "\n",
        "    def distance(self,x1,x2):\n",
        "        return sum(pow(x1-x2,2))\n",
        "\n",
        "    def predict(self,x):\n",
        "        if isinstance(x, (np.ndarray, np.generic) ):\n",
        "            data=x\n",
        "        else:\n",
        "            data=x.to_numpy()\n",
        "        retY=[]\n",
        "        for j in data:\n",
        "            dist=np.sum(pow(self.X-j,2),axis=1)\n",
        "            kn=self.k\n",
        "            while True:\n",
        "                neighbor=self.y[np.argsort(dist)[:kn]]\n",
        "                occ =[neighbor.tolist().count(kk) for kk in range(10)]\n",
        "                m= max(occ)\n",
        "                if (occ.count(m)==1):\n",
        "                    retY.append(occ.index(m))\n",
        "                    break\n",
        "                kn+=1\n",
        "        return retY\n",
        "\n",
        "    def set_params(self,**arg):\n",
        "        self.k=arg[\"k\"]\n",
        "        print(self.k)\n",
        "\n",
        "\n",
        "\n",
        "def fold(n,k):\n",
        "    ret=[]\n",
        "    fl=n//k\n",
        "    item=np.arange(n)\n",
        "    for i in range(k):\n",
        "       ret.append(\n",
        "           [item[i*fl:(i+1)*fl],\n",
        "           np.concatenate([item[:i*fl],item[(i+1)*fl:]])]\n",
        "       )\n",
        "    return ret\n",
        "\n",
        "\n",
        "\n",
        "def load_dataset(partition):\n",
        "    X,y = fetch_openml('mnist_784', version=1, return_X_y=True)\n",
        "    y = y.astype(int)[:int(len(X)*partition//1)]\n",
        "    X = X/255\n",
        "    X=X[:int(len(X)*partition//1)]\n",
        "    return X,y"
      ]
    },
    {
      "cell_type": "code",
      "execution_count": 5,
      "metadata": {
        "id": "QNyLtxFmoezH",
        "outputId": "73ad6dd3-6090-4322-ef51-22384198da1f",
        "colab": {
          "base_uri": "https://localhost:8080/",
          "height": 90
        }
      },
      "outputs": [
        {
          "output_type": "stream",
          "name": "stderr",
          "text": [
            "/usr/local/lib/python3.10/dist-packages/numpy/core/fromnumeric.py:3643: FutureWarning: The behavior of DataFrame.std with axis=None is deprecated, in a future version this will reduce over both axes and return a scalar. To retain the old behavior, pass axis=0 (or do not pass axis)\n",
            "  return std(axis=axis, dtype=dtype, out=out, ddof=ddof, **kwargs)\n"
          ]
        },
        {
          "output_type": "execute_result",
          "data": {
            "text/plain": [
              "''"
            ],
            "application/vnd.google.colaboratory.intrinsic+json": {
              "type": "string"
            }
          },
          "metadata": {},
          "execution_count": 5
        }
      ],
      "source": [
        "\n",
        "X,y=load_dataset(.5)\n",
        "X1=X.drop(X.columns[np.std(X)==0.0],axis=1)\n",
        "X_train,X_test,y_train,y_test=train_test_split(X1,y,test_size=.20, random_state=56)\n",
        ";"
      ]
    },
    {
      "cell_type": "code",
      "source": [],
      "metadata": {
        "id": "YEZGJ1EarZX3"
      },
      "execution_count": null,
      "outputs": []
    },
    {
      "cell_type": "code",
      "source": [
        "from numpy import mean\n",
        "def tune_parameter(parvalues,k_fold,X,y):\n",
        "    X=X.to_numpy()\n",
        "    y=y.to_numpy()\n",
        "    acc=[]\n",
        "    for i in range(len(parvalues)):\n",
        "        acc.append([])\n",
        "        for test_p,train_p in fold(len(X),k_fold):\n",
        "            cl=K_nn(k=parvalues[i])\n",
        "            cl.fit(X[train_p],y[train_p])\n",
        "            acc[i].append(accuracy_score(y[test_p],cl.predict(X[test_p])))\n",
        "        print(mean(acc[i]))\n",
        "    return acc"
      ],
      "metadata": {
        "id": "QncmFblhuu7A"
      },
      "execution_count": 57,
      "outputs": []
    },
    {
      "cell_type": "code",
      "execution_count": 58,
      "metadata": {
        "id": "YCsr7EFsoezK",
        "outputId": "32b7781d-fdf9-406f-a9c3-a6c53d48cbc6",
        "colab": {
          "base_uri": "https://localhost:8080/"
        }
      },
      "outputs": [
        {
          "metadata": {
            "tags": null
          },
          "name": "stdout",
          "output_type": "stream",
          "text": [
            "0.9645714285714286\n",
            "0.9617142857142857\n"
          ]
        }
      ],
      "source": [
        "c=[3,5]\n",
        "t_acc=tune_parameter(c,10,X_train,y_train)"
      ]
    },
    {
      "cell_type": "markdown",
      "source": [
        "validation time mean 30 min"
      ],
      "metadata": {
        "id": "QMln4-NpYL_Q"
      }
    },
    {
      "cell_type": "code",
      "source": [
        "start=time.time()\n",
        "cl = K_nn(3)\n",
        "cl.fit(X_train,y_train)\n",
        "end = time.time()\n",
        "print(\"Train time \"+str(int(end - start))+\"s\")"
      ],
      "metadata": {
        "id": "tuElPyLaYVnd",
        "outputId": "dd54b3ff-4b33-4787-e8ff-4ca8ec7f32d8",
        "colab": {
          "base_uri": "https://localhost:8080/"
        }
      },
      "execution_count": 59,
      "outputs": [
        {
          "output_type": "stream",
          "name": "stdout",
          "text": [
            "Train time 0s\n"
          ]
        }
      ]
    },
    {
      "cell_type": "code",
      "source": [
        "from sklearn.metrics import accuracy_score\n",
        "start=time.time()\n",
        "print(\"accuracy \"+str(accuracy_score(y_test,cl.predict(X_test))))\n",
        "end = time.time()\n",
        "print(\"Test time \"+str(int(end - start))+\"s\")"
      ],
      "metadata": {
        "id": "2Jv4QYv7YR35",
        "outputId": "e23aa7c4-2924-437d-ae14-0e50f2110cfb",
        "colab": {
          "base_uri": "https://localhost:8080/"
        }
      },
      "execution_count": 60,
      "outputs": [
        {
          "output_type": "stream",
          "name": "stdout",
          "text": [
            "accuracy 0.9708571428571429\n",
            "Test time 630s\n"
          ]
        }
      ]
    },
    {
      "cell_type": "code",
      "source": [
        "from sklearn import metrics\n",
        "from numpy import arange\n",
        "confusion_matrix = metrics.confusion_matrix(y_test, cl.predict(X_test))\n",
        "\n",
        "cm_display = metrics.ConfusionMatrixDisplay(confusion_matrix = confusion_matrix, display_labels = arange(10))\n",
        "\n",
        "cm_display.plot()\n",
        "plt.show()"
      ],
      "metadata": {
        "id": "aXw0A8AVYeJw",
        "outputId": "60638351-d53f-4d68-ac9c-7cf41b347e73",
        "colab": {
          "base_uri": "https://localhost:8080/",
          "height": 449
        }
      },
      "execution_count": 62,
      "outputs": [
        {
          "output_type": "display_data",
          "data": {
            "text/plain": [
              "<Figure size 640x480 with 2 Axes>"
            ],
            "image/png": "[encoded data removed]"
          },
          "metadata": {}
        }
      ]
    }
  ],
  "metadata": {
    "kernelspec": {
      "display_name": "Python 3",
      "language": "python",
      "name": "python3"
    },
    "language_info": {
      "codemirror_mode": {
        "name": "ipython",
        "version": 3
      },
      "file_extension": ".py",
      "mimetype": "text/x-python",
      "name": "python",
      "nbconvert_exporter": "python",
      "pygments_lexer": "ipython3",
      "version": "3.11.0"
    },
    "colab": {
      "provenance": []
    }
  },
  "nbformat": 4,
  "nbformat_minor": 0
}