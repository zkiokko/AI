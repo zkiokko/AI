{
  "cells": [
    {
      "cell_type": "code",
      "execution_count": 2,
      "metadata": {
        "id": "Flg7YaIMkRya"
      },
      "outputs": [],
      "source": [
        "from matplotlib import cm, pyplot as plt\n",
        "from sklearn.datasets import fetch_openml\n",
        "from sklearn.ensemble import RandomForestClassifier\n",
        "import numpy as np\n",
        "from sklearn.model_selection import train_test_split\n",
        "from sklearn.datasets import fetch_openml\n",
        "from sklearn.model_selection import cross_val_score\n",
        "\n",
        "\n",
        "def load_dataset(partition):\n",
        "    X,y = fetch_openml('mnist_784', version=1, return_X_y=True)\n",
        "    y = y.astype(int)[:int(len(X)*partition//1)]\n",
        "    X = X/255\n",
        "    X=X[:int(len(X)*partition//1)]\n",
        "    return X,y\n",
        "\n",
        "def tune_parameter(parname, parvalues ,cf ,k_fold,X,y):\n",
        "    acc=[]\n",
        "    for i in range(len(parvalues)):\n",
        "        cf.set_params(**{parname:parvalues[i]})\n",
        "        acc.append(cross_val_score(cf, X, y, cv=k_fold,scoring=\"accuracy\"))\n",
        "    return acc\n"
      ]
    },
    {
      "cell_type": "code",
      "execution_count": 3,
      "metadata": {
        "id": "VwmYgUqMkRyc"
      },
      "outputs": [],
      "source": [
        "\n",
        "\n",
        "X,y=load_dataset(.5)\n"
      ]
    },
    {
      "cell_type": "code",
      "execution_count": 4,
      "metadata": {
        "id": "dHWskYXukRye"
      },
      "outputs": [],
      "source": [
        "from sklearn.model_selection import train_test_split\n",
        "\n",
        "\n",
        "X_train,X_test,y_train,y_test=train_test_split(X,y,test_size=.2)"
      ]
    },
    {
      "cell_type": "code",
      "execution_count": null,
      "metadata": {
        "id": "IIKkGg7TkRyf",
        "outputId": "f23d150a-f6fa-44f3-855b-01cc125661a5",
        "colab": {
          "base_uri": "https://localhost:8080/"
        }
      },
      "outputs": [
        {
          "output_type": "stream",
          "name": "stdout",
          "text": [
            "[0.001, 0.0005, 0.00025, 0.0001, 5e-05]\n"
          ]
        }
      ],
      "source": [
        "from numpy import arange\n",
        "\n",
        "cl=RandomForestClassifier(n_estimators=100)\n",
        "t_values=[.001,.0005,.00025,.0001,.00005]\n",
        "print(t_values)\n",
        "t_acc=tune_parameter(\"min_impurity_decrease\",t_values,cl,10,X_train,y_train)"
      ]
    },
    {
      "cell_type": "code",
      "execution_count": null,
      "metadata": {
        "id": "VBzKyL8gkRyg"
      },
      "outputs": [],
      "source": [
        "from numpy import mean\n",
        "\n",
        "\n",
        "print(mean(t_acc,axis=1))\n",
        "t_accp=mean(t_acc,axis=1)"
      ]
    },
    {
      "cell_type": "code",
      "execution_count": null,
      "metadata": {
        "id": "4zoRe2hxkRyh"
      },
      "outputs": [],
      "source": [
        "\n",
        "fig, ax = plt.subplots()\n",
        "x_place=arange(len(t_accp))\n",
        "ax.plot(t_accp)\n",
        "\n",
        "plt.xticks(x_place, t_values)\n",
        "\n"
      ]
    },
    {
      "cell_type": "code",
      "execution_count": null,
      "metadata": {
        "id": "vGNZAY-bkRyi"
      },
      "outputs": [],
      "source": [
        "cl=RandomForestClassifier(n_estimators=100,min_impurity_decrease=0.0001)\n",
        "cl.fit(X_train,y_train)\n",
        "\n",
        "clBase=RandomForestClassifier(n_estimators=100)\n",
        "clBase.fit(X_train,y_train)\n"
      ]
    },
    {
      "cell_type": "code",
      "execution_count": null,
      "metadata": {
        "id": "ad_6c6KvkRyi"
      },
      "outputs": [],
      "source": [
        "from sklearn.metrics import accuracy_score\n",
        "print(accuracy_score(y_test,cl.predict(X_test)))\n",
        "print(accuracy_score(y_test,clBase.predict(X_test)))"
      ]
    },
    {
      "cell_type": "code",
      "execution_count": null,
      "metadata": {
        "id": "r3yR5-hpkRyj"
      },
      "outputs": [],
      "source": []
    },
    {
      "cell_type": "code",
      "execution_count": null,
      "metadata": {
        "id": "F9Wnf4__kRyj"
      },
      "outputs": [],
      "source": [
        "\n",
        "fi=cl.feature_importances_\n",
        "data=(fi/max(fi)).reshape(28,28)\n",
        "fig, ax = plt.subplots()\n",
        "l=ax.imshow(data, cmap=cm.jet, interpolation='nearest')\n",
        "ax.set_title(\"Feature importance\")\n",
        "fig.colorbar(l,ax=ax)\n"
      ]
    },
    {
      "cell_type": "code",
      "execution_count": null,
      "metadata": {
        "id": "7MT8JwbgkRyk"
      },
      "outputs": [],
      "source": [
        "fi=clBase.feature_importances_\n",
        "data=(fi/max(fi)).reshape(28,28)\n",
        "fig, ax = plt.subplots()\n",
        "l=ax.imshow(data, cmap=cm.jet, interpolation='nearest')\n",
        "ax.set_title(\"Feature importance\")\n",
        "fig.colorbar(l,ax=ax)"
      ]
    }
  ],
  "metadata": {
    "kernelspec": {
      "display_name": "Python 3",
      "language": "python",
      "name": "python3"
    },
    "language_info": {
      "codemirror_mode": {
        "name": "ipython",
        "version": 3
      },
      "file_extension": ".py",
      "mimetype": "text/x-python",
      "name": "python",
      "nbconvert_exporter": "python",
      "pygments_lexer": "ipython3",
      "version": "3.11.0"
    },
    "colab": {
      "provenance": []
    }
  },
  "nbformat": 4,
  "nbformat_minor": 0
}