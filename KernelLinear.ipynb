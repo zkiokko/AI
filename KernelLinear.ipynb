{
  "cells": [
    {
      "cell_type": "code",
      "execution_count": null,
      "metadata": {
        "id": "8rJfKesAdN6A"
      },
      "outputs": [],
      "source": [
        "from matplotlib import cm, pyplot as plt\n",
        "from sklearn.datasets import fetch_openml\n",
        "from sklearn.ensemble import RandomForestClassifier\n",
        "import numpy as np\n",
        "from sklearn.model_selection import train_test_split\n",
        "from sklearn.datasets import fetch_openml\n",
        "from sklearn.model_selection import cross_val_score\n",
        "import time\n",
        "from sklearn import svm\n",
        "from sklearn.model_selection import train_test_split\n",
        "\n",
        "\n",
        "def load_dataset(partition):\n",
        "    X,y = fetch_openml('mnist_784', version=1, return_X_y=True)\n",
        "    y = y.astype(int)[:int(len(X)*partition//1)]\n",
        "    X = X/255\n",
        "    X=X[:int(len(X)*partition//1)]\n",
        "    return X,y\n",
        "\n",
        "def tune_parameter(parname, parvalues ,cf ,k_fold,X,y):\n",
        "    acc=[]\n",
        "    for i in range(len(parvalues)):\n",
        "        cf.set_params(**{parname:parvalues[i]})\n",
        "        acc.append(cross_val_score(cf, X, y, cv=k_fold,scoring=\"accuracy\"))\n",
        "    return acc"
      ]
    },
    {
      "cell_type": "code",
      "execution_count": null,
      "metadata": {
        "id": "ue5X__IpdN6C",
        "outputId": "2c64b165-a3e3-40b1-892d-288d97dbe0d9"
      },
      "outputs": [
        {
          "name": "stderr",
          "output_type": "stream",
          "text": [
            "c:\\Users\\schio\\AppData\\Local\\Programs\\Python\\Python311\\Lib\\site-packages\\sklearn\\datasets\\_openml.py:1022: FutureWarning: The default value of `parser` will change from `'liac-arff'` to `'auto'` in 1.4. You can set `parser='auto'` to silence this warning. Therefore, an `ImportError` will be raised from 1.4 if the dataset is dense and pandas is not installed. Note that the pandas parser may return different data types. See the Notes Section in fetch_openml's API doc for details.\n",
            "  warn(\n"
          ]
        }
      ],
      "source": [
        "X,y=load_dataset(.5)\n",
        "X1=X.drop(X.columns[np.std(X)==0.0],axis=1)\n",
        "X_train,X_test,y_train,y_test=train_test_split(X1,y,test_size=.20)"
      ]
    },
    {
      "cell_type": "code",
      "execution_count": null,
      "metadata": {
        "id": "qcVohEQ9dN6C"
      },
      "outputs": [],
      "source": [
        "C=[0.1 ,1 ]\n",
        "cl = svm.SVC(kernel='linear', C=1)\n",
        "start = time.time()\n",
        "t_acc=tune_parameter(\"C\",t_values,cl,10,X_train,y_train)\n",
        "end = time.time()\n",
        "print(\"10-way cross validation mean time \"+str(int((end - start)/len(t_values)))+\"s\")"
      ]
    },
    {
      "cell_type": "code",
      "execution_count": null,
      "metadata": {
        "id": "4buESHi3dN6D",
        "outputId": "9730632d-e3cf-4f21-da0b-8f48c5200f61"
      },
      "outputs": [
        {
          "name": "stdout",
          "output_type": "stream",
          "text": [
            "0.9341428571428572\n"
          ]
        }
      ],
      "source": []
    }
  ],
  "metadata": {
    "kernelspec": {
      "display_name": "Python 3",
      "language": "python",
      "name": "python3"
    },
    "language_info": {
      "codemirror_mode": {
        "name": "ipython",
        "version": 3
      },
      "file_extension": ".py",
      "mimetype": "text/x-python",
      "name": "python",
      "nbconvert_exporter": "python",
      "pygments_lexer": "ipython3",
      "version": "3.11.0"
    },
    "colab": {
      "provenance": []
    }
  },
  "nbformat": 4,
  "nbformat_minor": 0
}