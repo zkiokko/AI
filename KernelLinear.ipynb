{
  "cells": [
    {
      "cell_type": "code",
      "execution_count": 1,
      "metadata": {
        "id": "8rJfKesAdN6A"
      },
      "outputs": [],
      "source": [
        "from matplotlib import cm, pyplot as plt\n",
        "from sklearn.datasets import fetch_openml\n",
        "from sklearn.ensemble import RandomForestClassifier\n",
        "import numpy as np\n",
        "from sklearn.model_selection import train_test_split\n",
        "from sklearn.datasets import fetch_openml\n",
        "from sklearn.model_selection import cross_val_score\n",
        "import time\n",
        "from sklearn import svm\n",
        "from sklearn.model_selection import train_test_split\n",
        "\n",
        "\n",
        "def load_dataset(partition):\n",
        "    X,y = fetch_openml('mnist_784', version=1, return_X_y=True)\n",
        "    y = y.astype(int)[:int(len(X)*partition//1)]\n",
        "    X = X/255\n",
        "    X=X[:int(len(X)*partition//1)]\n",
        "    return X,y\n",
        "\n",
        "def tune_parameter(parname, parvalues ,cf ,k_fold,X,y):\n",
        "    acc=[]\n",
        "    for i in range(len(parvalues)):\n",
        "        cf.set_params(**{parname:parvalues[i]})\n",
        "        acc.append(cross_val_score(cf, X, y, cv=k_fold,scoring=\"accuracy\"))\n",
        "    return acc"
      ]
    },
    {
      "cell_type": "code",
      "execution_count": 2,
      "metadata": {
        "colab": {
          "base_uri": "https://localhost:8080/"
        },
        "id": "ue5X__IpdN6C",
        "outputId": "21614a38-9a6d-4d33-8a00-9aac80d7dbf9"
      },
      "outputs": [
        {
          "output_type": "stream",
          "name": "stderr",
          "text": [
            "/usr/local/lib/python3.10/dist-packages/numpy/core/fromnumeric.py:3643: FutureWarning: The behavior of DataFrame.std with axis=None is deprecated, in a future version this will reduce over both axes and return a scalar. To retain the old behavior, pass axis=0 (or do not pass axis)\n",
            "  return std(axis=axis, dtype=dtype, out=out, ddof=ddof, **kwargs)\n"
          ]
        }
      ],
      "source": [
        "X,y=load_dataset(.5)\n",
        "X1=X.drop(X.columns[np.std(X)==0.0],axis=1)\n",
        "X_train,X_test,y_train,y_test=train_test_split(X1,y,test_size=.20)"
      ]
    },
    {
      "cell_type": "code",
      "execution_count": 3,
      "metadata": {
        "colab": {
          "base_uri": "https://localhost:8080/"
        },
        "id": "qcVohEQ9dN6C",
        "outputId": "40a9b8a7-9ba2-47cc-862b-ce7742da920b"
      },
      "outputs": [
        {
          "output_type": "stream",
          "name": "stdout",
          "text": [
            "10-way cross validation mean time 627s\n"
          ]
        }
      ],
      "source": [
        "c=[0.1 ,1 ]\n",
        "cl = svm.SVC(kernel='linear', C=1)\n",
        "start = time.time()\n",
        "t_acc=tune_parameter(\"C\",c,cl,10,X_train,y_train)\n",
        "end = time.time()\n",
        "print(\"10-way cross validation mean time \"+str(int((end - start)/len(c)))+\"s\")"
      ]
    },
    {
      "cell_type": "code",
      "execution_count": 6,
      "metadata": {
        "colab": {
          "base_uri": "https://localhost:8080/"
        },
        "id": "4buESHi3dN6D",
        "outputId": "17ddb39c-44f5-4d76-85d7-ad2e2abfc3b3"
      },
      "outputs": [
        {
          "output_type": "execute_result",
          "data": {
            "text/plain": [
              "array([0.93842857, 0.92642857])"
            ]
          },
          "metadata": {},
          "execution_count": 6
        }
      ],
      "source": [
        "from numpy import mean\n",
        "mean(t_acc,axis=1)"
      ]
    },
    {
      "cell_type": "code",
      "source": [
        "c.append(0.01)\n",
        "start = time.time()\n",
        "t_acc.append(tune_parameter(\"C\",[0.01],cl,10,X_train,y_train))\n",
        "end = time.time()\n",
        "print(\"10-way cross validation mean time \"+str(int((end - start)/len(c)))+\"s\")"
      ],
      "metadata": {
        "id": "j-cO-MmokQsD"
      },
      "execution_count": null,
      "outputs": []
    },
    {
      "cell_type": "markdown",
      "source": [],
      "metadata": {
        "id": "kaQEfZtlgibD"
      }
    }
  ],
  "metadata": {
    "kernelspec": {
      "display_name": "Python 3",
      "language": "python",
      "name": "python3"
    },
    "language_info": {
      "codemirror_mode": {
        "name": "ipython",
        "version": 3
      },
      "file_extension": ".py",
      "mimetype": "text/x-python",
      "name": "python",
      "nbconvert_exporter": "python",
      "pygments_lexer": "ipython3",
      "version": "3.11.0"
    },
    "colab": {
      "provenance": []
    }
  },
  "nbformat": 4,
  "nbformat_minor": 0
}